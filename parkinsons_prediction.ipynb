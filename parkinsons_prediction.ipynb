{
 "cells": [
  {
   "cell_type": "markdown",
   "metadata": {},
   "source": [
    "# Predicting with ML"
   ]
  },
  {
   "cell_type": "code",
   "execution_count": 1,
   "metadata": {},
   "outputs": [],
   "source": [
    "import pandas as pd\n",
    "from sklearn.metrics import mean_absolute_error, r2_score"
   ]
  },
  {
   "cell_type": "code",
   "execution_count": 2,
   "metadata": {},
   "outputs": [
    {
     "name": "stdout",
     "output_type": "stream",
     "text": [
      "   subject#  age  sex  test_time  motor_UPDRS  total_UPDRS  Jitter(%)  \\\n",
      "0         1   72    0     5.6431       28.199       34.398    0.00662   \n",
      "1         1   72    0    12.6660       28.447       34.894    0.00300   \n",
      "2         1   72    0    19.6810       28.695       35.389    0.00481   \n",
      "3         1   72    0    25.6470       28.905       35.810    0.00528   \n",
      "4         1   72    0    33.6420       29.187       36.375    0.00335   \n",
      "\n",
      "   Jitter(Abs)  Jitter:RAP  Jitter:PPQ5  ...  Shimmer(dB)  Shimmer:APQ3  \\\n",
      "0     0.000034     0.00401      0.00317  ...        0.230       0.01438   \n",
      "1     0.000017     0.00132      0.00150  ...        0.179       0.00994   \n",
      "2     0.000025     0.00205      0.00208  ...        0.181       0.00734   \n",
      "3     0.000027     0.00191      0.00264  ...        0.327       0.01106   \n",
      "4     0.000020     0.00093      0.00130  ...        0.176       0.00679   \n",
      "\n",
      "   Shimmer:APQ5  Shimmer:APQ11  Shimmer:DDA       NHR     HNR     RPDE  \\\n",
      "0       0.01309        0.01662      0.04314  0.014290  21.640  0.41888   \n",
      "1       0.01072        0.01689      0.02982  0.011112  27.183  0.43493   \n",
      "2       0.00844        0.01458      0.02202  0.020220  23.047  0.46222   \n",
      "3       0.01265        0.01963      0.03317  0.027837  24.445  0.48730   \n",
      "4       0.00929        0.01819      0.02036  0.011625  26.126  0.47188   \n",
      "\n",
      "       DFA      PPE  \n",
      "0  0.54842  0.16006  \n",
      "1  0.56477  0.10810  \n",
      "2  0.54405  0.21014  \n",
      "3  0.57794  0.33277  \n",
      "4  0.56122  0.19361  \n",
      "\n",
      "[5 rows x 22 columns]\n"
     ]
    }
   ],
   "source": [
    "\n",
    "# Read CSV files into dataframes\n",
    "\n",
    "# File paths\n",
    "path = 'Data\\parkinsons_updrs.data'\n",
    "\n",
    "\n",
    "# Using pd.read_csv() method to read the data into a pandas dataframe\n",
    "prediction_df = pd.read_csv(path)\n",
    "\n",
    "# Display the first 5 rows of the dataframe to show the data was read in properly\n",
    "print(prediction_df.head())"
   ]
  },
  {
   "cell_type": "code",
   "execution_count": 3,
   "metadata": {},
   "outputs": [],
   "source": [
    "\n",
    "y= prediction_df[['motor_UPDRS']]\n",
    "X = prediction_df.drop(columns=['subject#','age','test_time','motor_UPDRS','total_UPDRS'])\n",
    "\n",
    "\n",
    "# Use sklearn to split dataset\n",
    "from sklearn.model_selection import train_test_split\n",
    "X_train, X_test, y_train, y_test = train_test_split(X, y, random_state=1)\n",
    "\n",
    "# Create scaler instance\n",
    "from sklearn.preprocessing import StandardScaler\n",
    "scaler = StandardScaler()\n",
    "\n",
    "# Fit the scaler\n",
    "scaler.fit(X_train)\n",
    "\n",
    "# Scale the data\n",
    "X_train_scaled = scaler.transform(X_train)\n",
    "X_test_scaled = scaler.transform(X_test)"
   ]
  },
  {
   "cell_type": "code",
   "execution_count": 4,
   "metadata": {},
   "outputs": [],
   "source": [
    "\n",
    "from sklearn.linear_model import LinearRegression\n",
    "from sklearn.tree import DecisionTreeRegressor\n",
    "from sklearn.ensemble import RandomForestRegressor, GradientBoostingRegressor\n",
    "from sklearn.metrics import mean_absolute_error"
   ]
  },
  {
   "cell_type": "code",
   "execution_count": 5,
   "metadata": {},
   "outputs": [],
   "source": [
    "models = {\n",
    "    \"Linear Regression\": LinearRegression(),\n",
    "    \"Decision Tree\": DecisionTreeRegressor(random_state=0),\n",
    "    \"Random Forest\": RandomForestRegressor(random_state=0),\n",
    "    \"Gradient Boosting\": GradientBoostingRegressor(random_state=0)\n",
    "}"
   ]
  },
  {
   "cell_type": "code",
   "execution_count": 6,
   "metadata": {},
   "outputs": [
    {
     "name": "stderr",
     "output_type": "stream",
     "text": [
      "C:\\Users\\wemlh\\AppData\\Local\\Temp\\ipykernel_5780\\3159239396.py:3: DataConversionWarning: A column-vector y was passed when a 1d array was expected. Please change the shape of y to (n_samples,), for example using ravel().\n",
      "  model.fit(X_train, y_train)\n",
      "e:\\ProgramData\\anaconda3\\envs\\dev\\lib\\site-packages\\sklearn\\ensemble\\_gb.py:437: DataConversionWarning: A column-vector y was passed when a 1d array was expected. Please change the shape of y to (n_samples, ), for example using ravel().\n",
      "  y = column_or_1d(y, warn=True)\n"
     ]
    },
    {
     "data": {
      "text/plain": [
       "{'Linear Regression': [6.603477304917329, 0.10283210226663653],\n",
       " 'Decision Tree': [6.7262897208985715, -0.2977074197266958],\n",
       " 'Random Forest': [5.106207330837305, 0.3789663312838665],\n",
       " 'Gradient Boosting': [5.818998461319579, 0.26308032855574737]}"
      ]
     },
     "execution_count": 6,
     "metadata": {},
     "output_type": "execute_result"
    }
   ],
   "source": [
    "results = {}\n",
    "for name, model in models.items():\n",
    "    model.fit(X_train, y_train)\n",
    "    predictions = model.predict(X_test)\n",
    "    mae = mean_absolute_error(y_test, predictions)\n",
    "    r2 = r2_score(y_test, predictions)\n",
    "    results[name] = [mae,r2]\n",
    "\n",
    "results"
   ]
  },
  {
   "cell_type": "code",
   "execution_count": 7,
   "metadata": {},
   "outputs": [],
   "source": [
    "\n",
    "# Prepare data for the plots\n",
    "mae_values = [result[0] for result in results.values()]\n",
    "r2_values = [result[1] for result in results.values()]\n",
    "model_names = list(results.keys())"
   ]
  },
  {
   "cell_type": "code",
   "execution_count": 8,
   "metadata": {},
   "outputs": [
    {
     "data": {
      "text/plain": [
       "['Linear Regression', 'Decision Tree', 'Random Forest', 'Gradient Boosting']"
      ]
     },
     "execution_count": 8,
     "metadata": {},
     "output_type": "execute_result"
    }
   ],
   "source": [
    "mae_values\n",
    "r2_values\n",
    "model_names"
   ]
  },
  {
   "cell_type": "code",
   "execution_count": 9,
   "metadata": {},
   "outputs": [],
   "source": [
    "import matplotlib.pyplot as plt\n",
    "import numpy as np"
   ]
  },
  {
   "cell_type": "code",
   "execution_count": 10,
   "metadata": {},
   "outputs": [
    {
     "data": {
      "text/plain": [
       "Text(0.5, 1.0, 'MAE Values for Different Models')"
      ]
     },
     "execution_count": 10,
     "metadata": {},
     "output_type": "execute_result"
    },
    {
     "data": {
      "image/png": "[encoded data removed]",
      "text/plain": [
       "<Figure size 800x400 with 1 Axes>"
      ]
     },
     "metadata": {},
     "output_type": "display_data"
    }
   ],
   "source": [
    "positions = np.arange(len(model_names))\n",
    "plt.figure(figsize=(8, 4))\n",
    "plt.bar(positions, mae_values, align='center', alpha=0.7, color='b')\n",
    "plt.xticks(positions, model_names)\n",
    "plt.ylabel('MAE')\n",
    "plt.title('MAE Values for Different Models')\n"
   ]
  },
  {
   "cell_type": "code",
   "execution_count": 11,
   "metadata": {},
   "outputs": [
    {
     "data": {
      "text/plain": [
       "Text(0.5, 1.0, 'R2 Values for Different Models')"
      ]
     },
     "execution_count": 11,
     "metadata": {},
     "output_type": "execute_result"
    },
    {
     "data": {
      "image/png": "[encoded data removed]",
      "text/plain": [
       "<Figure size 800x400 with 1 Axes>"
      ]
     },
     "metadata": {},
     "output_type": "display_data"
    }
   ],
   "source": [
    "plt.figure(figsize=(8, 4))\n",
    "plt.bar(positions, r2_values, align='center', alpha=0.7, color='g')\n",
    "plt.xticks(positions, model_names)\n",
    "plt.ylabel('R2')\n",
    "plt.title('R2 Values for Different Models')"
   ]
  },
  {
   "cell_type": "code",
   "execution_count": 12,
   "metadata": {},
   "outputs": [
    {
     "name": "stdout",
     "output_type": "stream",
     "text": [
      "WARNING:tensorflow:From e:\\ProgramData\\anaconda3\\envs\\dev\\lib\\site-packages\\keras\\src\\losses.py:2976: The name tf.losses.sparse_softmax_cross_entropy is deprecated. Please use tf.compat.v1.losses.sparse_softmax_cross_entropy instead.\n",
      "\n",
      "WARNING:tensorflow:From e:\\ProgramData\\anaconda3\\envs\\dev\\lib\\site-packages\\keras\\src\\backend.py:873: The name tf.get_default_graph is deprecated. Please use tf.compat.v1.get_default_graph instead.\n",
      "\n",
      "WARNING:tensorflow:From e:\\ProgramData\\anaconda3\\envs\\dev\\lib\\site-packages\\keras\\src\\optimizers\\__init__.py:309: The name tf.train.Optimizer is deprecated. Please use tf.compat.v1.train.Optimizer instead.\n",
      "\n",
      "Epoch 1/100\n",
      "WARNING:tensorflow:From e:\\ProgramData\\anaconda3\\envs\\dev\\lib\\site-packages\\keras\\src\\utils\\tf_utils.py:492: The name tf.ragged.RaggedTensorValue is deprecated. Please use tf.compat.v1.ragged.RaggedTensorValue instead.\n",
      "\n",
      "441/441 [==============================] - 1s 921us/step - loss: 110.8182\n",
      "Epoch 2/100\n",
      "441/441 [==============================] - 0s 866us/step - loss: 55.0476\n",
      "Epoch 3/100\n",
      "441/441 [==============================] - 0s 839us/step - loss: 50.6781\n",
      "Epoch 4/100\n",
      "441/441 [==============================] - 0s 842us/step - loss: 48.0872\n",
      "Epoch 5/100\n",
      "441/441 [==============================] - 0s 859us/step - loss: 46.7883\n",
      "Epoch 6/100\n",
      "441/441 [==============================] - 0s 871us/step - loss: 44.5760\n",
      "Epoch 7/100\n",
      "441/441 [==============================] - 0s 855us/step - loss: 43.7741\n",
      "Epoch 8/100\n",
      "441/441 [==============================] - 0s 881us/step - loss: 42.6095\n",
      "Epoch 9/100\n",
      "441/441 [==============================] - 0s 859us/step - loss: 41.9178\n",
      "Epoch 10/100\n",
      "441/441 [==============================] - 0s 867us/step - loss: 41.3865\n",
      "Epoch 11/100\n",
      "441/441 [==============================] - 0s 866us/step - loss: 40.3553\n",
      "Epoch 12/100\n",
      "441/441 [==============================] - 0s 855us/step - loss: 39.1773\n",
      "Epoch 13/100\n",
      "441/441 [==============================] - 0s 868us/step - loss: 38.8892\n",
      "Epoch 14/100\n",
      "441/441 [==============================] - 0s 856us/step - loss: 37.8796\n",
      "Epoch 15/100\n",
      "441/441 [==============================] - 0s 858us/step - loss: 37.4836\n",
      "Epoch 16/100\n",
      "441/441 [==============================] - 0s 868us/step - loss: 37.1604\n",
      "Epoch 17/100\n",
      "441/441 [==============================] - 0s 849us/step - loss: 37.2215\n",
      "Epoch 18/100\n",
      "441/441 [==============================] - 0s 870us/step - loss: 36.5454\n",
      "Epoch 19/100\n",
      "441/441 [==============================] - 0s 872us/step - loss: 36.1609\n",
      "Epoch 20/100\n",
      "441/441 [==============================] - 0s 840us/step - loss: 35.5221\n",
      "Epoch 21/100\n",
      "441/441 [==============================] - 0s 831us/step - loss: 34.6095\n",
      "Epoch 22/100\n",
      "441/441 [==============================] - 0s 831us/step - loss: 34.5417\n",
      "Epoch 23/100\n",
      "441/441 [==============================] - 0s 849us/step - loss: 35.2710\n",
      "Epoch 24/100\n",
      "441/441 [==============================] - 0s 828us/step - loss: 34.0177\n",
      "Epoch 25/100\n",
      "441/441 [==============================] - 0s 836us/step - loss: 34.3081\n",
      "Epoch 26/100\n",
      "441/441 [==============================] - 0s 845us/step - loss: 33.1650\n",
      "Epoch 27/100\n",
      "441/441 [==============================] - 0s 859us/step - loss: 33.2174\n",
      "Epoch 28/100\n",
      "441/441 [==============================] - 0s 919us/step - loss: 33.3317\n",
      "Epoch 29/100\n",
      "441/441 [==============================] - 0s 878us/step - loss: 32.2626\n",
      "Epoch 30/100\n",
      "441/441 [==============================] - 0s 886us/step - loss: 32.2290\n",
      "Epoch 31/100\n",
      "441/441 [==============================] - 0s 881us/step - loss: 31.6208\n",
      "Epoch 32/100\n",
      "441/441 [==============================] - 0s 967us/step - loss: 31.4921\n",
      "Epoch 33/100\n",
      "441/441 [==============================] - 0s 949us/step - loss: 31.3536\n",
      "Epoch 34/100\n",
      "441/441 [==============================] - 0s 941us/step - loss: 31.3974\n",
      "Epoch 35/100\n",
      "441/441 [==============================] - 0s 887us/step - loss: 31.3252\n",
      "Epoch 36/100\n",
      "441/441 [==============================] - 0s 920us/step - loss: 30.5558\n",
      "Epoch 37/100\n",
      "441/441 [==============================] - 0s 956us/step - loss: 31.3283\n",
      "Epoch 38/100\n",
      "441/441 [==============================] - 0s 931us/step - loss: 31.8056\n",
      "Epoch 39/100\n",
      "441/441 [==============================] - 0s 907us/step - loss: 30.0616\n",
      "Epoch 40/100\n",
      "441/441 [==============================] - 0s 877us/step - loss: 29.6050\n",
      "Epoch 41/100\n",
      "441/441 [==============================] - 0s 899us/step - loss: 29.3826\n",
      "Epoch 42/100\n",
      "441/441 [==============================] - 0s 926us/step - loss: 28.9586\n",
      "Epoch 43/100\n",
      "441/441 [==============================] - 0s 908us/step - loss: 28.7497\n",
      "Epoch 44/100\n",
      "441/441 [==============================] - 0s 902us/step - loss: 29.1488\n",
      "Epoch 45/100\n",
      "441/441 [==============================] - 0s 869us/step - loss: 28.4173\n",
      "Epoch 46/100\n",
      "441/441 [==============================] - 0s 907us/step - loss: 28.1304\n",
      "Epoch 47/100\n",
      "441/441 [==============================] - 0s 905us/step - loss: 28.5723\n",
      "Epoch 48/100\n",
      "441/441 [==============================] - 0s 931us/step - loss: 28.0639\n",
      "Epoch 49/100\n",
      "441/441 [==============================] - 0s 925us/step - loss: 27.7273\n",
      "Epoch 50/100\n",
      "441/441 [==============================] - 0s 931us/step - loss: 27.2374\n",
      "Epoch 51/100\n",
      "441/441 [==============================] - 0s 928us/step - loss: 27.2975\n",
      "Epoch 52/100\n",
      "441/441 [==============================] - 0s 901us/step - loss: 26.9159\n",
      "Epoch 53/100\n",
      "441/441 [==============================] - 0s 931us/step - loss: 27.1912\n",
      "Epoch 54/100\n",
      "441/441 [==============================] - 0s 943us/step - loss: 26.7682\n",
      "Epoch 55/100\n",
      "441/441 [==============================] - 0s 916us/step - loss: 26.6232\n",
      "Epoch 56/100\n",
      "441/441 [==============================] - 0s 906us/step - loss: 26.9668\n",
      "Epoch 57/100\n",
      "441/441 [==============================] - 0s 910us/step - loss: 26.1610\n",
      "Epoch 58/100\n",
      "441/441 [==============================] - 0s 886us/step - loss: 26.5688\n",
      "Epoch 59/100\n",
      "441/441 [==============================] - 0s 893us/step - loss: 25.5809\n",
      "Epoch 60/100\n",
      "441/441 [==============================] - 0s 867us/step - loss: 25.2504\n",
      "Epoch 61/100\n",
      "441/441 [==============================] - 0s 894us/step - loss: 25.6604\n",
      "Epoch 62/100\n",
      "441/441 [==============================] - 0s 915us/step - loss: 25.4506\n",
      "Epoch 63/100\n",
      "441/441 [==============================] - 0s 894us/step - loss: 25.4560\n",
      "Epoch 64/100\n",
      "441/441 [==============================] - 0s 904us/step - loss: 24.5953\n",
      "Epoch 65/100\n",
      "441/441 [==============================] - 0s 894us/step - loss: 24.8036\n",
      "Epoch 66/100\n",
      "441/441 [==============================] - 0s 897us/step - loss: 24.1261\n",
      "Epoch 67/100\n",
      "441/441 [==============================] - 0s 924us/step - loss: 24.1585\n",
      "Epoch 68/100\n",
      "441/441 [==============================] - 0s 941us/step - loss: 23.8569\n",
      "Epoch 69/100\n",
      "441/441 [==============================] - 0s 923us/step - loss: 23.5348\n",
      "Epoch 70/100\n",
      "441/441 [==============================] - 0s 984us/step - loss: 24.4217\n",
      "Epoch 71/100\n",
      "441/441 [==============================] - 0s 894us/step - loss: 23.3971\n",
      "Epoch 72/100\n",
      "441/441 [==============================] - 0s 931us/step - loss: 23.4132\n",
      "Epoch 73/100\n",
      "441/441 [==============================] - 0s 940us/step - loss: 22.9026\n",
      "Epoch 74/100\n",
      "441/441 [==============================] - 0s 894us/step - loss: 23.1606\n",
      "Epoch 75/100\n",
      "441/441 [==============================] - 0s 885us/step - loss: 22.8289\n",
      "Epoch 76/100\n",
      "441/441 [==============================] - 0s 885us/step - loss: 23.1510\n",
      "Epoch 77/100\n",
      "441/441 [==============================] - 0s 892us/step - loss: 23.5307\n",
      "Epoch 78/100\n",
      "441/441 [==============================] - 0s 881us/step - loss: 22.6141\n",
      "Epoch 79/100\n",
      "441/441 [==============================] - 0s 915us/step - loss: 22.4782\n",
      "Epoch 80/100\n",
      "441/441 [==============================] - 0s 873us/step - loss: 21.9433\n",
      "Epoch 81/100\n",
      "441/441 [==============================] - 0s 911us/step - loss: 22.1022\n",
      "Epoch 82/100\n",
      "441/441 [==============================] - 0s 889us/step - loss: 21.7974\n",
      "Epoch 83/100\n",
      "441/441 [==============================] - 0s 884us/step - loss: 22.1986\n",
      "Epoch 84/100\n",
      "441/441 [==============================] - 0s 879us/step - loss: 22.0987\n",
      "Epoch 85/100\n",
      "441/441 [==============================] - 0s 898us/step - loss: 21.9019\n",
      "Epoch 86/100\n",
      "441/441 [==============================] - 0s 896us/step - loss: 20.9969\n",
      "Epoch 87/100\n",
      "441/441 [==============================] - 0s 895us/step - loss: 20.8611\n",
      "Epoch 88/100\n",
      "441/441 [==============================] - 0s 881us/step - loss: 20.7821\n",
      "Epoch 89/100\n",
      "441/441 [==============================] - 0s 904us/step - loss: 21.0144\n",
      "Epoch 90/100\n",
      "441/441 [==============================] - 0s 888us/step - loss: 20.7233\n",
      "Epoch 91/100\n",
      "441/441 [==============================] - 0s 937us/step - loss: 20.4555\n",
      "Epoch 92/100\n",
      "441/441 [==============================] - 0s 910us/step - loss: 19.8823\n",
      "Epoch 93/100\n",
      "441/441 [==============================] - 0s 907us/step - loss: 20.0236\n",
      "Epoch 94/100\n",
      "441/441 [==============================] - 0s 914us/step - loss: 20.1701\n",
      "Epoch 95/100\n",
      "441/441 [==============================] - 0s 876us/step - loss: 20.1651\n",
      "Epoch 96/100\n",
      "441/441 [==============================] - 0s 901us/step - loss: 19.8295\n",
      "Epoch 97/100\n",
      "441/441 [==============================] - 0s 926us/step - loss: 19.7566\n",
      "Epoch 98/100\n",
      "441/441 [==============================] - 0s 870us/step - loss: 19.1228\n",
      "Epoch 99/100\n",
      "441/441 [==============================] - 0s 903us/step - loss: 19.3481\n",
      "Epoch 100/100\n",
      "441/441 [==============================] - 0s 870us/step - loss: 19.1906\n",
      "46/46 [==============================] - 0s 844us/step\n"
     ]
    }
   ],
   "source": [
    "import tensorflow as tf\n",
    "\n",
    "# Build the model\n",
    "model = tf.keras.Sequential([\n",
    "    tf.keras.layers.Dense(128, activation='relu', input_shape=(X_train_scaled.shape[1],)),\n",
    "    tf.keras.layers.Dense(64, activation='relu'),\n",
    "    tf.keras.layers.Dense(32, activation='relu'),\n",
    "    tf.keras.layers.Dense(1, activation='linear')\n",
    "])\n",
    "\n",
    "# Compile the model\n",
    "model.compile(optimizer='adam', loss='mean_squared_error')\n",
    "\n",
    "# Train the model\n",
    "model.fit(X_train_scaled, y_train, epochs=100, batch_size=10)\n",
    "\n",
    "# Evaluate the model\n",
    "predictions = model.predict(X_test_scaled)"
   ]
  },
  {
   "cell_type": "code",
   "execution_count": 13,
   "metadata": {},
   "outputs": [
    {
     "name": "stdout",
     "output_type": "stream",
     "text": [
      "Model: \"sequential\"\n",
      "_________________________________________________________________\n",
      " Layer (type)                Output Shape              Param #   \n",
      "=================================================================\n",
      " dense (Dense)               (None, 128)               2304      \n",
      "                                                                 \n",
      " dense_1 (Dense)             (None, 64)                8256      \n",
      "                                                                 \n",
      " dense_2 (Dense)             (None, 32)                2080      \n",
      "                                                                 \n",
      " dense_3 (Dense)             (None, 1)                 33        \n",
      "                                                                 \n",
      "=================================================================\n",
      "Total params: 12673 (49.50 KB)\n",
      "Trainable params: 12673 (49.50 KB)\n",
      "Non-trainable params: 0 (0.00 Byte)\n",
      "_________________________________________________________________\n"
     ]
    }
   ],
   "source": [
    "model.summary()"
   ]
  },
  {
   "cell_type": "code",
   "execution_count": 14,
   "metadata": {},
   "outputs": [],
   "source": [
    "mae_nn = model.evaluate(X_test_scaled, y_test, verbose=0)"
   ]
  },
  {
   "cell_type": "code",
   "execution_count": 15,
   "metadata": {},
   "outputs": [
    {
     "data": {
      "text/plain": [
       "39.382442474365234"
      ]
     },
     "execution_count": 15,
     "metadata": {},
     "output_type": "execute_result"
    }
   ],
   "source": [
    "mae_nn"
   ]
  },
  {
   "cell_type": "code",
   "execution_count": null,
   "metadata": {},
   "outputs": [],
   "source": []
  }
 ],
 "metadata": {
  "kernelspec": {
   "display_name": "amd_dev_2",
   "language": "python",
   "name": "python3"
  },
  "language_info": {
   "codemirror_mode": {
    "name": "ipython",
    "version": 3
   },
   "file_extension": ".py",
   "mimetype": "text/x-python",
   "name": "python",
   "nbconvert_exporter": "python",
   "pygments_lexer": "ipython3",
   "version": "3.10.13"
  }
 },
 "nbformat": 4,
 "nbformat_minor": 2
}
