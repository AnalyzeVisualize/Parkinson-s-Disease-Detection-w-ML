{
 "cells": [
  {
   "cell_type": "markdown",
   "metadata": {},
   "source": [
    "# Predicting with ML"
   ]
  },
  {
   "cell_type": "code",
   "execution_count": 1,
   "metadata": {},
   "outputs": [],
   "source": [
    "import pandas as pd\n",
    "from sklearn.metrics import mean_absolute_error, r2_score"
   ]
  },
  {
   "cell_type": "code",
   "execution_count": 2,
   "metadata": {},
   "outputs": [
    {
     "name": "stdout",
     "output_type": "stream",
     "text": [
      "   subject#  age  sex  test_time  motor_UPDRS  total_UPDRS  Jitter(%)  \\\n",
      "0         1   72    0     5.6431       28.199       34.398    0.00662   \n",
      "1         1   72    0    12.6660       28.447       34.894    0.00300   \n",
      "2         1   72    0    19.6810       28.695       35.389    0.00481   \n",
      "3         1   72    0    25.6470       28.905       35.810    0.00528   \n",
      "4         1   72    0    33.6420       29.187       36.375    0.00335   \n",
      "\n",
      "   Jitter(Abs)  Jitter:RAP  Jitter:PPQ5  ...  Shimmer(dB)  Shimmer:APQ3  \\\n",
      "0     0.000034     0.00401      0.00317  ...        0.230       0.01438   \n",
      "1     0.000017     0.00132      0.00150  ...        0.179       0.00994   \n",
      "2     0.000025     0.00205      0.00208  ...        0.181       0.00734   \n",
      "3     0.000027     0.00191      0.00264  ...        0.327       0.01106   \n",
      "4     0.000020     0.00093      0.00130  ...        0.176       0.00679   \n",
      "\n",
      "   Shimmer:APQ5  Shimmer:APQ11  Shimmer:DDA       NHR     HNR     RPDE  \\\n",
      "0       0.01309        0.01662      0.04314  0.014290  21.640  0.41888   \n",
      "1       0.01072        0.01689      0.02982  0.011112  27.183  0.43493   \n",
      "2       0.00844        0.01458      0.02202  0.020220  23.047  0.46222   \n",
      "3       0.01265        0.01963      0.03317  0.027837  24.445  0.48730   \n",
      "4       0.00929        0.01819      0.02036  0.011625  26.126  0.47188   \n",
      "\n",
      "       DFA      PPE  \n",
      "0  0.54842  0.16006  \n",
      "1  0.56477  0.10810  \n",
      "2  0.54405  0.21014  \n",
      "3  0.57794  0.33277  \n",
      "4  0.56122  0.19361  \n",
      "\n",
      "[5 rows x 22 columns]\n"
     ]
    }
   ],
   "source": [
    "\n",
    "# Read CSV files into dataframes\n",
    "\n",
    "# File paths\n",
    "path = 'Data\\parkinsons_updrs.data'\n",
    "\n",
    "\n",
    "# Using pd.read_csv() method to read the data into a pandas dataframe\n",
    "prediction_df = pd.read_csv(path)\n",
    "\n",
    "# Display the first 5 rows of the dataframe to show the data was read in properly\n",
    "print(prediction_df.head())"
   ]
  },
  {
   "cell_type": "code",
   "execution_count": 3,
   "metadata": {},
   "outputs": [],
   "source": [
    "\n",
    "y= prediction_df[['motor_UPDRS']]\n",
    "X = prediction_df.drop(columns=['subject#','sex','age','test_time','motor_UPDRS','total_UPDRS','Jitter(%)','Jitter:RAP','Shimmer:APQ11','Shimmer','Shimmer(dB)','Shimmer:APQ3','Shimmer:APQ5','Jitter:PPQ5'])\n",
    "\n",
    "\n",
    "# Use sklearn to split dataset\n",
    "from sklearn.model_selection import train_test_split\n",
    "X_train, X_test, y_train, y_test = train_test_split(X, y, random_state=0)\n",
    "\n",
    "# Create scaler instance\n",
    "from sklearn.preprocessing import StandardScaler\n",
    "scaler = StandardScaler()\n",
    "\n",
    "# Fit the scaler\n",
    "scaler.fit(X_train)\n",
    "\n",
    "# Scale the data\n",
    "X_train_scaled = scaler.transform(X_train)\n",
    "X_test_scaled = scaler.transform(X_test)"
   ]
  },
  {
   "cell_type": "code",
   "execution_count": 4,
   "metadata": {},
   "outputs": [
    {
     "data": {
      "text/plain": [
       "['Jitter(Abs)',\n",
       " 'Jitter:DDP',\n",
       " 'Shimmer:DDA',\n",
       " 'NHR',\n",
       " 'HNR',\n",
       " 'RPDE',\n",
       " 'DFA',\n",
       " 'PPE']"
      ]
     },
     "execution_count": 4,
     "metadata": {},
     "output_type": "execute_result"
    }
   ],
   "source": [
    "Cnames=X.columns.to_list()\n",
    "Cnames"
   ]
  },
  {
   "cell_type": "code",
   "execution_count": 5,
   "metadata": {},
   "outputs": [],
   "source": [
    "\n",
    "from sklearn.linear_model import LinearRegression\n",
    "from sklearn.tree import DecisionTreeRegressor\n",
    "from sklearn.ensemble import RandomForestRegressor, GradientBoostingRegressor\n",
    "from sklearn.metrics import mean_absolute_error"
   ]
  },
  {
   "cell_type": "code",
   "execution_count": 6,
   "metadata": {},
   "outputs": [],
   "source": [
    "models = {\n",
    "    \"Linear Regression\": LinearRegression(),\n",
    "    \"Decision Tree\": DecisionTreeRegressor(random_state=0),\n",
    "    \"Random Forest\": RandomForestRegressor(random_state=0),\n",
    "    \"Gradient Boosting\": GradientBoostingRegressor(random_state=0)\n",
    "}"
   ]
  },
  {
   "cell_type": "code",
   "execution_count": 7,
   "metadata": {},
   "outputs": [
    {
     "name": "stderr",
     "output_type": "stream",
     "text": [
      "C:\\Users\\wemlh\\AppData\\Local\\Temp\\ipykernel_21368\\3159239396.py:3: DataConversionWarning: A column-vector y was passed when a 1d array was expected. Please change the shape of y to (n_samples,), for example using ravel().\n",
      "  model.fit(X_train, y_train)\n",
      "e:\\ProgramData\\anaconda3\\envs\\dev\\lib\\site-packages\\sklearn\\ensemble\\_gb.py:437: DataConversionWarning: A column-vector y was passed when a 1d array was expected. Please change the shape of y to (n_samples, ), for example using ravel().\n",
      "  y = column_or_1d(y, warn=True)\n"
     ]
    },
    {
     "data": {
      "text/plain": [
       "{'Linear Regression': [6.613220541837893, 0.08009014565864259],\n",
       " 'Decision Tree': [7.012309802586794, -0.3806195139856188],\n",
       " 'Random Forest': [5.2726956269571135, 0.32648004369160954],\n",
       " 'Gradient Boosting': [5.800083332602308, 0.24440254593169597]}"
      ]
     },
     "execution_count": 7,
     "metadata": {},
     "output_type": "execute_result"
    }
   ],
   "source": [
    "results = {}\n",
    "for name, model in models.items():\n",
    "    model.fit(X_train, y_train)\n",
    "    predictions = model.predict(X_test)\n",
    "    mae = mean_absolute_error(y_test, predictions)\n",
    "    r2 = r2_score(y_test, predictions)\n",
    "    results[name] = [mae,r2]\n",
    "\n",
    "results"
   ]
  },
  {
   "cell_type": "code",
   "execution_count": 8,
   "metadata": {},
   "outputs": [
    {
     "name": "stdout",
     "output_type": "stream",
     "text": [
      "WARNING:tensorflow:From e:\\ProgramData\\anaconda3\\envs\\dev\\lib\\site-packages\\keras\\src\\losses.py:2976: The name tf.losses.sparse_softmax_cross_entropy is deprecated. Please use tf.compat.v1.losses.sparse_softmax_cross_entropy instead.\n",
      "\n",
      "WARNING:tensorflow:From e:\\ProgramData\\anaconda3\\envs\\dev\\lib\\site-packages\\keras\\src\\backend.py:873: The name tf.get_default_graph is deprecated. Please use tf.compat.v1.get_default_graph instead.\n",
      "\n",
      "WARNING:tensorflow:From e:\\ProgramData\\anaconda3\\envs\\dev\\lib\\site-packages\\keras\\src\\optimizers\\__init__.py:309: The name tf.train.Optimizer is deprecated. Please use tf.compat.v1.train.Optimizer instead.\n",
      "\n",
      "Model: \"sequential\"\n",
      "_________________________________________________________________\n",
      " Layer (type)                Output Shape              Param #   \n",
      "=================================================================\n",
      " dense (Dense)               (None, 1024)              9216      \n",
      "                                                                 \n",
      " dense_1 (Dense)             (None, 512)               524800    \n",
      "                                                                 \n",
      " dense_2 (Dense)             (None, 256)               131328    \n",
      "                                                                 \n",
      " dense_3 (Dense)             (None, 1)                 257       \n",
      "                                                                 \n",
      "=================================================================\n",
      "Total params: 665601 (2.54 MB)\n",
      "Trainable params: 665601 (2.54 MB)\n",
      "Non-trainable params: 0 (0.00 Byte)\n",
      "_________________________________________________________________\n"
     ]
    }
   ],
   "source": [
    "import tensorflow as tf\n",
    "\n",
    "# Build the model\n",
    "model = tf.keras.Sequential([\n",
    "    tf.keras.layers.Dense(1024, activation='tanh', input_shape=(X_train_scaled.shape[1],)),\n",
    "    tf.keras.layers.Dense(512, activation='relu'),\n",
    "    tf.keras.layers.Dense(256, activation='relu'),\n",
    "    tf.keras.layers.Dense(1, activation='linear')\n",
    "])\n",
    "\n",
    "# Compile the model\n",
    "model.compile(optimizer='adam', loss='mean_absolute_error')\n",
    "model.summary()\n",
    "\n",
    "\n"
   ]
  },
  {
   "cell_type": "code",
   "execution_count": 9,
   "metadata": {},
   "outputs": [
    {
     "name": "stdout",
     "output_type": "stream",
     "text": [
      "Epoch 1/100\n",
      "WARNING:tensorflow:From e:\\ProgramData\\anaconda3\\envs\\dev\\lib\\site-packages\\keras\\src\\utils\\tf_utils.py:492: The name tf.ragged.RaggedTensorValue is deprecated. Please use tf.compat.v1.ragged.RaggedTensorValue instead.\n",
      "\n",
      "441/441 [==============================] - 2s 3ms/step - loss: 7.5292\n",
      "Epoch 2/100\n",
      "441/441 [==============================] - 1s 3ms/step - loss: 6.4896\n",
      "Epoch 3/100\n",
      "441/441 [==============================] - 1s 3ms/step - loss: 6.2883\n",
      "Epoch 4/100\n",
      "441/441 [==============================] - 1s 3ms/step - loss: 6.1707\n",
      "Epoch 5/100\n",
      "441/441 [==============================] - 1s 3ms/step - loss: 6.0716\n",
      "Epoch 6/100\n",
      "441/441 [==============================] - 1s 3ms/step - loss: 5.9645\n",
      "Epoch 7/100\n",
      "441/441 [==============================] - 1s 3ms/step - loss: 5.8218\n",
      "Epoch 8/100\n",
      "441/441 [==============================] - 1s 3ms/step - loss: 5.7156\n",
      "Epoch 9/100\n",
      "441/441 [==============================] - 1s 3ms/step - loss: 5.6687\n",
      "Epoch 10/100\n",
      "441/441 [==============================] - 1s 3ms/step - loss: 5.5209\n",
      "Epoch 11/100\n",
      "441/441 [==============================] - 1s 3ms/step - loss: 5.4243\n",
      "Epoch 12/100\n",
      "441/441 [==============================] - 1s 3ms/step - loss: 5.3184\n",
      "Epoch 13/100\n",
      "441/441 [==============================] - 1s 3ms/step - loss: 5.3195\n",
      "Epoch 14/100\n",
      "441/441 [==============================] - 1s 3ms/step - loss: 5.2334\n",
      "Epoch 15/100\n",
      "441/441 [==============================] - 1s 3ms/step - loss: 5.1553\n",
      "Epoch 16/100\n",
      "441/441 [==============================] - 1s 3ms/step - loss: 5.1571\n",
      "Epoch 17/100\n",
      "441/441 [==============================] - 1s 3ms/step - loss: 5.0993\n",
      "Epoch 18/100\n",
      "441/441 [==============================] - 1s 3ms/step - loss: 5.0565\n",
      "Epoch 19/100\n",
      "441/441 [==============================] - 1s 3ms/step - loss: 4.9872\n",
      "Epoch 20/100\n",
      "441/441 [==============================] - 1s 3ms/step - loss: 4.9395\n",
      "Epoch 21/100\n",
      "441/441 [==============================] - 1s 3ms/step - loss: 4.9609\n",
      "Epoch 22/100\n",
      "441/441 [==============================] - 1s 3ms/step - loss: 4.8308\n",
      "Epoch 23/100\n",
      "441/441 [==============================] - 1s 3ms/step - loss: 4.8252\n",
      "Epoch 24/100\n",
      "441/441 [==============================] - 1s 3ms/step - loss: 4.8313\n",
      "Epoch 25/100\n",
      "441/441 [==============================] - 1s 3ms/step - loss: 4.7599\n",
      "Epoch 26/100\n",
      "441/441 [==============================] - 1s 3ms/step - loss: 4.7731\n",
      "Epoch 27/100\n",
      "441/441 [==============================] - 1s 3ms/step - loss: 4.7271\n",
      "Epoch 28/100\n",
      "441/441 [==============================] - 1s 3ms/step - loss: 4.6735\n",
      "Epoch 29/100\n",
      "441/441 [==============================] - 1s 3ms/step - loss: 4.6226\n",
      "Epoch 30/100\n",
      "441/441 [==============================] - 1s 3ms/step - loss: 4.6201\n",
      "Epoch 31/100\n",
      "441/441 [==============================] - 1s 3ms/step - loss: 4.5569\n",
      "Epoch 32/100\n",
      "441/441 [==============================] - 1s 3ms/step - loss: 4.5833\n",
      "Epoch 33/100\n",
      "441/441 [==============================] - 1s 3ms/step - loss: 4.5444\n",
      "Epoch 34/100\n",
      "441/441 [==============================] - 1s 3ms/step - loss: 4.4956\n",
      "Epoch 35/100\n",
      "441/441 [==============================] - 1s 3ms/step - loss: 4.4523\n",
      "Epoch 36/100\n",
      "441/441 [==============================] - 1s 3ms/step - loss: 4.4490\n",
      "Epoch 37/100\n",
      "441/441 [==============================] - 1s 3ms/step - loss: 4.3641\n",
      "Epoch 38/100\n",
      "441/441 [==============================] - 1s 3ms/step - loss: 4.4151\n",
      "Epoch 39/100\n",
      "441/441 [==============================] - 1s 3ms/step - loss: 4.4121\n",
      "Epoch 40/100\n",
      "441/441 [==============================] - 1s 3ms/step - loss: 4.3473\n",
      "Epoch 41/100\n",
      "441/441 [==============================] - 1s 3ms/step - loss: 4.3155\n",
      "Epoch 42/100\n",
      "441/441 [==============================] - 1s 3ms/step - loss: 4.2794\n",
      "Epoch 43/100\n",
      "441/441 [==============================] - 1s 3ms/step - loss: 4.2249\n",
      "Epoch 44/100\n",
      "441/441 [==============================] - 1s 3ms/step - loss: 4.2257\n",
      "Epoch 45/100\n",
      "441/441 [==============================] - 1s 3ms/step - loss: 4.2100\n",
      "Epoch 46/100\n",
      "441/441 [==============================] - 1s 3ms/step - loss: 4.1794\n",
      "Epoch 47/100\n",
      "441/441 [==============================] - 1s 3ms/step - loss: 4.1371\n",
      "Epoch 48/100\n",
      "441/441 [==============================] - 1s 3ms/step - loss: 4.1533\n",
      "Epoch 49/100\n",
      "441/441 [==============================] - 1s 3ms/step - loss: 4.0883\n",
      "Epoch 50/100\n",
      "441/441 [==============================] - 1s 3ms/step - loss: 4.1404\n",
      "Epoch 51/100\n",
      "441/441 [==============================] - 1s 3ms/step - loss: 4.0476\n",
      "Epoch 52/100\n",
      "441/441 [==============================] - 1s 3ms/step - loss: 4.0415\n",
      "Epoch 53/100\n",
      "441/441 [==============================] - 1s 3ms/step - loss: 3.9946\n",
      "Epoch 54/100\n",
      "441/441 [==============================] - 1s 3ms/step - loss: 4.0143\n",
      "Epoch 55/100\n",
      "441/441 [==============================] - 1s 3ms/step - loss: 4.0251\n",
      "Epoch 56/100\n",
      "441/441 [==============================] - 1s 3ms/step - loss: 4.0083\n",
      "Epoch 57/100\n",
      "441/441 [==============================] - 1s 3ms/step - loss: 3.9562\n",
      "Epoch 58/100\n",
      "441/441 [==============================] - 1s 3ms/step - loss: 3.8971\n",
      "Epoch 59/100\n",
      "441/441 [==============================] - 1s 3ms/step - loss: 3.9626\n",
      "Epoch 60/100\n",
      "441/441 [==============================] - 1s 3ms/step - loss: 3.8762\n",
      "Epoch 61/100\n",
      "441/441 [==============================] - 1s 3ms/step - loss: 3.8559\n",
      "Epoch 62/100\n",
      "441/441 [==============================] - 1s 3ms/step - loss: 3.8769\n",
      "Epoch 63/100\n",
      "441/441 [==============================] - 1s 3ms/step - loss: 3.8661\n",
      "Epoch 64/100\n",
      "441/441 [==============================] - 1s 3ms/step - loss: 3.8255\n",
      "Epoch 65/100\n",
      "441/441 [==============================] - 1s 3ms/step - loss: 3.7994\n",
      "Epoch 66/100\n",
      "441/441 [==============================] - 1s 3ms/step - loss: 3.7611\n",
      "Epoch 67/100\n",
      "441/441 [==============================] - 1s 3ms/step - loss: 3.7781\n",
      "Epoch 68/100\n",
      "441/441 [==============================] - 1s 3ms/step - loss: 3.7446\n",
      "Epoch 69/100\n",
      "441/441 [==============================] - 1s 3ms/step - loss: 3.7144\n",
      "Epoch 70/100\n",
      "441/441 [==============================] - 1s 3ms/step - loss: 3.6937\n",
      "Epoch 71/100\n",
      "441/441 [==============================] - 1s 3ms/step - loss: 3.6695\n",
      "Epoch 72/100\n",
      "441/441 [==============================] - 1s 3ms/step - loss: 3.6779\n",
      "Epoch 73/100\n",
      "441/441 [==============================] - 1s 3ms/step - loss: 3.6618\n",
      "Epoch 74/100\n",
      "441/441 [==============================] - 1s 3ms/step - loss: 3.6580\n",
      "Epoch 75/100\n",
      "441/441 [==============================] - 1s 3ms/step - loss: 3.6664\n",
      "Epoch 76/100\n",
      "441/441 [==============================] - 1s 3ms/step - loss: 3.5977\n",
      "Epoch 77/100\n",
      "441/441 [==============================] - 1s 3ms/step - loss: 3.6255\n",
      "Epoch 78/100\n",
      "441/441 [==============================] - 1s 3ms/step - loss: 3.5887\n",
      "Epoch 79/100\n",
      "441/441 [==============================] - 1s 3ms/step - loss: 3.5762\n",
      "Epoch 80/100\n",
      "441/441 [==============================] - 1s 3ms/step - loss: 3.5365\n",
      "Epoch 81/100\n",
      "441/441 [==============================] - 1s 3ms/step - loss: 3.5338\n",
      "Epoch 82/100\n",
      "441/441 [==============================] - 1s 3ms/step - loss: 3.5092\n",
      "Epoch 83/100\n",
      "441/441 [==============================] - 1s 3ms/step - loss: 3.4983\n",
      "Epoch 84/100\n",
      "441/441 [==============================] - 1s 3ms/step - loss: 3.4839\n",
      "Epoch 85/100\n",
      "441/441 [==============================] - 1s 3ms/step - loss: 3.4497\n",
      "Epoch 86/100\n",
      "441/441 [==============================] - 1s 3ms/step - loss: 3.4238\n",
      "Epoch 87/100\n",
      "441/441 [==============================] - 1s 3ms/step - loss: 3.4394\n",
      "Epoch 88/100\n",
      "441/441 [==============================] - 2s 3ms/step - loss: 3.3729\n",
      "Epoch 89/100\n",
      "441/441 [==============================] - 2s 4ms/step - loss: 3.3898\n",
      "Epoch 90/100\n",
      "441/441 [==============================] - 1s 3ms/step - loss: 3.3949\n",
      "Epoch 91/100\n",
      "441/441 [==============================] - 1s 3ms/step - loss: 3.3564\n",
      "Epoch 92/100\n",
      "441/441 [==============================] - 1s 3ms/step - loss: 3.3745\n",
      "Epoch 93/100\n",
      "441/441 [==============================] - 1s 3ms/step - loss: 3.3183\n",
      "Epoch 94/100\n",
      "441/441 [==============================] - 1s 3ms/step - loss: 3.3275\n",
      "Epoch 95/100\n",
      "441/441 [==============================] - 2s 3ms/step - loss: 3.3123\n",
      "Epoch 96/100\n",
      "441/441 [==============================] - 1s 3ms/step - loss: 3.2652\n",
      "Epoch 97/100\n",
      "441/441 [==============================] - 1s 3ms/step - loss: 3.2429\n",
      "Epoch 98/100\n",
      "441/441 [==============================] - 1s 3ms/step - loss: 3.2438\n",
      "Epoch 99/100\n",
      "441/441 [==============================] - 1s 3ms/step - loss: 3.2358\n",
      "Epoch 100/100\n",
      "441/441 [==============================] - 1s 3ms/step - loss: 3.2297\n"
     ]
    },
    {
     "data": {
      "text/plain": [
       "<keras.src.callbacks.History at 0x2560dd2d4e0>"
      ]
     },
     "execution_count": 9,
     "metadata": {},
     "output_type": "execute_result"
    }
   ],
   "source": [
    "# Train the model\n",
    "model.fit(X_train_scaled, y_train, epochs=100, batch_size=10)"
   ]
  },
  {
   "cell_type": "code",
   "execution_count": 10,
   "metadata": {},
   "outputs": [
    {
     "name": "stdout",
     "output_type": "stream",
     "text": [
      "46/46 [==============================] - 0s 1ms/step\n"
     ]
    }
   ],
   "source": [
    "# Evaluate the model\n",
    "predictions = model.predict(X_test_scaled)\n"
   ]
  },
  {
   "cell_type": "code",
   "execution_count": 11,
   "metadata": {},
   "outputs": [
    {
     "data": {
      "text/plain": [
       "4.966485977172852"
      ]
     },
     "execution_count": 11,
     "metadata": {},
     "output_type": "execute_result"
    }
   ],
   "source": [
    "loss_nn = model.evaluate(X_test_scaled, y_test, verbose=0)\n",
    "loss_nn"
   ]
  },
  {
   "cell_type": "code",
   "execution_count": 12,
   "metadata": {},
   "outputs": [
    {
     "data": {
      "text/plain": [
       "4.966484579368057"
      ]
     },
     "execution_count": 12,
     "metadata": {},
     "output_type": "execute_result"
    }
   ],
   "source": [
    "\n",
    "mae_nn=mean_absolute_error(y_test, predictions)\n",
    "mae_nn"
   ]
  },
  {
   "cell_type": "code",
   "execution_count": 13,
   "metadata": {},
   "outputs": [
    {
     "data": {
      "text/plain": [
       "0.28934953006242703"
      ]
     },
     "execution_count": 13,
     "metadata": {},
     "output_type": "execute_result"
    }
   ],
   "source": [
    "r2_nn = r2_score(y_test, predictions)\n",
    "r2_nn"
   ]
  },
  {
   "cell_type": "code",
   "execution_count": 14,
   "metadata": {},
   "outputs": [],
   "source": [
    "results['Neural Network']=[mae_nn,r2_nn]"
   ]
  },
  {
   "cell_type": "code",
   "execution_count": 15,
   "metadata": {},
   "outputs": [
    {
     "data": {
      "text/plain": [
       "{'Linear Regression': [6.613220541837893, 0.08009014565864259],\n",
       " 'Decision Tree': [7.012309802586794, -0.3806195139856188],\n",
       " 'Random Forest': [5.2726956269571135, 0.32648004369160954],\n",
       " 'Gradient Boosting': [5.800083332602308, 0.24440254593169597],\n",
       " 'Neural Network': [4.966484579368057, 0.28934953006242703]}"
      ]
     },
     "execution_count": 15,
     "metadata": {},
     "output_type": "execute_result"
    }
   ],
   "source": [
    "results"
   ]
  },
  {
   "cell_type": "code",
   "execution_count": 16,
   "metadata": {},
   "outputs": [],
   "source": [
    "import matplotlib.pyplot as plt\n",
    "import numpy as np"
   ]
  },
  {
   "cell_type": "code",
   "execution_count": 17,
   "metadata": {},
   "outputs": [],
   "source": [
    "\n",
    "# Prepare data for the plots\n",
    "mae_values = [result[0] for result in results.values()]\n",
    "r2_values = [result[1] for result in results.values()]\n",
    "model_names = list(results.keys())"
   ]
  },
  {
   "cell_type": "code",
   "execution_count": 20,
   "metadata": {},
   "outputs": [
    {
     "data": {
      "text/plain": [
       "Text(0.5, 1.0, 'MAE Values for Different Models')"
      ]
     },
     "execution_count": 20,
     "metadata": {},
     "output_type": "execute_result"
    },
    {
     "data": {
      "image/png": "[encoded data removed]",
      "text/plain": [
       "<Figure size 800x400 with 1 Axes>"
      ]
     },
     "metadata": {},
     "output_type": "display_data"
    }
   ],
   "source": [
    "import seaborn as sns\n",
    "positions = np.arange(len(model_names))\n",
    "plt.figure(figsize=(8, 4))\n",
    "sns.barplot(x=positions, y=mae_values, palette='Greens')\n",
    "# plt.bar(positions, mae_values, align='center', alpha=0.7, palette='Greens')\n",
    "plt.xticks(positions, model_names)\n",
    "plt.ylabel('MAE')\n",
    "plt.title('MAE Values for Different Models')\n"
   ]
  },
  {
   "cell_type": "code",
   "execution_count": 21,
   "metadata": {},
   "outputs": [
    {
     "data": {
      "text/plain": [
       "Text(0.5, 1.0, 'R2 Values for Different Models')"
      ]
     },
     "execution_count": 21,
     "metadata": {},
     "output_type": "execute_result"
    },
    {
     "data": {
      "image/png": "[encoded data removed]",
      "text/plain": [
       "<Figure size 800x400 with 1 Axes>"
      ]
     },
     "metadata": {},
     "output_type": "display_data"
    }
   ],
   "source": [
    "plt.figure(figsize=(8, 4))\n",
    "sns.barplot(x=positions, y=r2_values, palette='Greens')\n",
    "# plt.bar(positions, r2_values, align='center', alpha=0.7, palette='Greens')\n",
    "plt.xticks(positions, model_names)\n",
    "plt.ylabel('R2')\n",
    "plt.title('R2 Values for Different Models')"
   ]
  }
 ],
 "metadata": {
  "kernelspec": {
   "display_name": "amd_dev_2",
   "language": "python",
   "name": "python3"
  },
  "language_info": {
   "codemirror_mode": {
    "name": "ipython",
    "version": 3
   },
   "file_extension": ".py",
   "mimetype": "text/x-python",
   "name": "python",
   "nbconvert_exporter": "python",
   "pygments_lexer": "ipython3",
   "version": "3.10.13"
  }
 },
 "nbformat": 4,
 "nbformat_minor": 2
}
